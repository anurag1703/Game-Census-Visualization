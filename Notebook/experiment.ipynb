{
 "cells": [
  {
   "cell_type": "markdown",
   "metadata": {},
   "source": [
    "### Importing Required Libraries"
   ]
  },
  {
   "cell_type": "code",
   "execution_count": 1,
   "metadata": {},
   "outputs": [],
   "source": [
    "import pandas as pd\n",
    "import numpy as np\n",
    "import seaborn as sns\n",
    "import matplotlib.pyplot as plt"
   ]
  },
  {
   "cell_type": "markdown",
   "metadata": {},
   "source": [
    "### Load the Datasets"
   ]
  },
  {
   "cell_type": "code",
   "execution_count": 2,
   "metadata": {},
   "outputs": [],
   "source": [
    "roster_data = pd.read_excel(r'C:\\Users\\anura\\Desktop\\Project 2- Big game Census Analytics\\Data\\Big_game_analytics.xlsx')\n",
    "population_2017 = pd.read_excel(r'C:\\Users\\anura\\Desktop\\Project 2- Big game Census Analytics\\Data\\2017_data.xlsx')\n",
    "population_2016 = pd.read_excel(r'C:\\Users\\anura\\Desktop\\Project 2- Big game Census Analytics\\Data\\2016_data.xlsx')"
   ]
  },
  {
   "cell_type": "code",
   "execution_count": 3,
   "metadata": {},
   "outputs": [
    {
     "name": "stdout",
     "output_type": "stream",
     "text": [
      "Roster Data:\n",
      "         Player Name Player Jersey Number Player Position  Player Age  \\\n",
      "0    Devin McCourty                  #32            S/FS        30.0   \n",
      "1    Danny Amendola                  #80        PR/WR/KR        32.0   \n",
      "2  Johnson Bademosi                  #29     CB/SPTM/RCB        27.0   \n",
      "3       Chris Hogan                  #15              WR        29.0   \n",
      "4     James Develin                  #46           RB/FB        29.0   \n",
      "\n",
      "   Player Weight (lbs.) Years Played Player Birthplace (city, town, etc.)  \\\n",
      "0                 195.0            8                               Nanuet   \n",
      "1                 190.0            9                        The Woodlands   \n",
      "2                 206.0            6                        Silver Spring   \n",
      "3                 210.0            5                              Wyckoff   \n",
      "4                 255.0            5                        Gilbertsville   \n",
      "\n",
      "  Player Birth State    Player Birthplace (Combo) Player College  ...  \\\n",
      "0           New York             Nanuet, New York        Rutgers  ...   \n",
      "1              Texas         The Woodlands, Texas     Texas Tech  ...   \n",
      "2           Maryland      Silver Spring, Maryland       Stanford  ...   \n",
      "3         New Jersey          Wyckoff, New Jersey       Monmouth  ...   \n",
      "4       Pennsylvania  Gilbertsville, Pennsylvania          Brown  ...   \n",
      "\n",
      "    Full GEOID Latitude (player birthplace) Longitude (player birthplace)  \\\n",
      "0  0400000US36                    41.088707                    -74.013473   \n",
      "1  0400000US48                    30.173419                    -95.504686   \n",
      "2  0400000US24                    38.990666                    -77.026088   \n",
      "3  0400000US34                    41.009542                    -74.172922   \n",
      "4  0400000US42                    40.320097                    -75.610184   \n",
      "\n",
      "   Number from City Number of Records  \\\n",
      "0               1.0               1.0   \n",
      "1               1.0               1.0   \n",
      "2               1.0               1.0   \n",
      "3               1.0               1.0   \n",
      "4               1.0               1.0   \n",
      "\n",
      "   American FactFinder Link for more Census data points  \\\n",
      "0  https://factfinder.census.gov/bkmk/cf/1.0/en/p...      \n",
      "1  https://factfinder.census.gov/bkmk/cf/1.0/en/p...      \n",
      "2  https://factfinder.census.gov/bkmk/cf/1.0/en/p...      \n",
      "3  https://factfinder.census.gov/bkmk/cf/1.0/en/p...      \n",
      "4  https://factfinder.census.gov/bkmk/cf/1.0/en/p...      \n",
      "\n",
      "                                     Quickfacts Link  \\\n",
      "0  https://www.census.gov/quickfacts/fact/table/N...   \n",
      "1  https://www.census.gov/quickfacts/fact/table/T...   \n",
      "2  https://www.census.gov/quickfacts/fact/table/S...   \n",
      "3  https://www.census.gov/quickfacts/fact/table/W...   \n",
      "4  https://www.census.gov/quickfacts/fact/table/G...   \n",
      "\n",
      "                                     State Data Link  \\\n",
      "0  https://factfinder.census.gov/bkmk/cf/1.0/en/s...   \n",
      "1  https://factfinder.census.gov/bkmk/cf/1.0/en/s...   \n",
      "2  https://factfinder.census.gov/bkmk/cf/1.0/en/s...   \n",
      "3  https://factfinder.census.gov/bkmk/cf/1.0/en/s...   \n",
      "4  https://factfinder.census.gov/bkmk/cf/1.0/en/s...   \n",
      "\n",
      "                     Source (Population States 2017)  \\\n",
      "0  U.S. Census Bureau, 2017 Annual Estimates of t...   \n",
      "1  U.S. Census Bureau, 2017 Annual Estimates of t...   \n",
      "2  U.S. Census Bureau, 2017 Annual Estimates of t...   \n",
      "3  U.S. Census Bureau, 2017 Annual Estimates of t...   \n",
      "4  U.S. Census Bureau, 2017 Annual Estimates of t...   \n",
      "\n",
      "                  Birthplace, Population Data Source  \n",
      "0  U.S. Census Bureau, 2012-2016 American Communi...  \n",
      "1  U.S. Census Bureau, 2012-2016 American Communi...  \n",
      "2  U.S. Census Bureau, 2012-2016 American Communi...  \n",
      "3  U.S. Census Bureau, 2012-2016 American Communi...  \n",
      "4  U.S. Census Bureau, 2012-2016 American Communi...  \n",
      "\n",
      "[5 rows x 24 columns]\n",
      "\n",
      "Population Data 2017:\n",
      "          GEOID  GEOID2 Geography Name  April 1, 2010 - Census  \\\n",
      "0  0400000US01       1        Alabama                 4779736   \n",
      "1  0400000US02       2         Alaska                  710231   \n",
      "2  0400000US04       4        Arizona                 6392017   \n",
      "3  0400000US05       5       Arkansas                 2915918   \n",
      "4  0400000US06       6     California                37253956   \n",
      "\n",
      "   April 1, 2010 - Estimates Base  Population Estimate (as of July 1) - 2010  \\\n",
      "0                         4780135                                    4785579   \n",
      "1                          710249                                     714015   \n",
      "2                         6392309                                    6407002   \n",
      "3                         2916031                                    2921737   \n",
      "4                        37254518                                   37327690   \n",
      "\n",
      "   Population Estimate (as of July 1) - 2011  \\\n",
      "0                                    4798649   \n",
      "1                                     722259   \n",
      "2                                    6465488   \n",
      "3                                    2938640   \n",
      "4                                   37672654   \n",
      "\n",
      "   Population Estimate (as of July 1) - 2012  \\\n",
      "0                                    4813946   \n",
      "1                                     730825   \n",
      "2                                    6544211   \n",
      "3                                    2949208   \n",
      "4                                   38019006   \n",
      "\n",
      "   Population Estimate (as of July 1) - 2013  \\\n",
      "0                                    4827660   \n",
      "1                                     736760   \n",
      "2                                    6616124   \n",
      "3                                    2956780   \n",
      "4                                   38347383   \n",
      "\n",
      "   Population Estimate (as of July 1) - 2014  \\\n",
      "0                                    4840037   \n",
      "1                                     736759   \n",
      "2                                    6706435   \n",
      "3                                    2964800   \n",
      "4                                   38701278   \n",
      "\n",
      "   Population Estimate (as of July 1) - 2015  \\\n",
      "0                                    4850858   \n",
      "1                                     737979   \n",
      "2                                    6802262   \n",
      "3                                    2975626   \n",
      "4                                   39032444   \n",
      "\n",
      "   Population Estimate (as of July 1) - 2016  \\\n",
      "0                                    4860545   \n",
      "1                                     741522   \n",
      "2                                    6908642   \n",
      "3                                    2988231   \n",
      "4                                   39296476   \n",
      "\n",
      "   Population Estimate (as of July 1) - 2017  \n",
      "0                                    4874747  \n",
      "1                                     739795  \n",
      "2                                    7016270  \n",
      "3                                    3004279  \n",
      "4                                   39536653  \n",
      "\n",
      "Population Data 2016:\n",
      "       Geographic ID  GEOID 2 Geography, full name (City, State)  \\\n",
      "0  1620000US0100124   100124            Abbeville city, Alabama   \n",
      "1  1620000US0100460   100460           Adamsville city, Alabama   \n",
      "2  1620000US0100484   100484              Addison town, Alabama   \n",
      "3  1620000US0100676   100676                Akron town, Alabama   \n",
      "4  1620000US0100820   100820            Alabaster city, Alabama   \n",
      "\n",
      "  April 1, 2010 - Census  April 1, 2010 - Estimates Base  \\\n",
      "0                   2688                            2688   \n",
      "1                   4522                            4522   \n",
      "2                    758                             756   \n",
      "3                    356                             356   \n",
      "4                  30352                           31066   \n",
      "\n",
      "   Population Estimate (as of July 1) - 2010  \\\n",
      "0                                       2683   \n",
      "1                                       4517   \n",
      "2                                        754   \n",
      "3                                        355   \n",
      "4                                      31176   \n",
      "\n",
      "   Population Estimate (as of July 1) - 2011  \\\n",
      "0                                       2685   \n",
      "1                                       4495   \n",
      "2                                        753   \n",
      "3                                        345   \n",
      "4                                      31362   \n",
      "\n",
      "   Population Estimate (as of July 1) - 2012  \\\n",
      "0                                       2647   \n",
      "1                                       4472   \n",
      "2                                        748   \n",
      "3                                        345   \n",
      "4                                      31663   \n",
      "\n",
      "   Population Estimate (as of July 1) - 2013  \\\n",
      "0                                       2631   \n",
      "1                                       4447   \n",
      "2                                        748   \n",
      "3                                        342   \n",
      "4                                      31960   \n",
      "\n",
      "   Population Estimate (as of July 1) - 2014  \\\n",
      "0                                       2619   \n",
      "1                                       4428   \n",
      "2                                        747   \n",
      "3                                        337   \n",
      "4                                      32167   \n",
      "\n",
      "   Population Estimate (as of July 1) - 2015  \\\n",
      "0                                       2616   \n",
      "1                                       4395   \n",
      "2                                        740   \n",
      "3                                        337   \n",
      "4                                      32751   \n",
      "\n",
      "   Population Estimate (as of July 1) - 2016  \n",
      "0                                       2603  \n",
      "1                                       4360  \n",
      "2                                        738  \n",
      "3                                        334  \n",
      "4                                      32948  \n"
     ]
    }
   ],
   "source": [
    "print(\"Roster Data:\\n\", roster_data.head())\n",
    "print(\"\\nPopulation Data 2017:\\n\", population_2017.head())\n",
    "print(\"\\nPopulation Data 2016:\\n\", population_2016.head())"
   ]
  },
  {
   "cell_type": "code",
   "execution_count": 4,
   "metadata": {},
   "outputs": [
    {
     "name": "stdout",
     "output_type": "stream",
     "text": [
      "\n",
      "Missing Values in Roster Data:\n",
      " Player Name                                                 2\n",
      "Player Jersey Number                                        3\n",
      "Player Position                                             3\n",
      "Player Age                                                  3\n",
      "Player Weight (lbs.)                                        3\n",
      "Years Played                                                3\n",
      "Player Birthplace (city, town, etc.)                        3\n",
      "Player Birth State                                          3\n",
      "Player Birthplace (Combo)                                   3\n",
      "Player College                                              3\n",
      "Player Team                                                 3\n",
      "Conference                                                  3\n",
      "2016 Population Estimates (except where otherwise noted)    3\n",
      "State GEO ID                                                3\n",
      "Full GEOID                                                  3\n",
      "Latitude (player birthplace)                                3\n",
      "Longitude (player birthplace)                               3\n",
      "Number from City                                            3\n",
      "Number of Records                                           3\n",
      "American FactFinder Link for more Census data points        3\n",
      "Quickfacts Link                                             3\n",
      "State Data Link                                             3\n",
      "Source (Population States 2017)                             3\n",
      "Birthplace, Population Data Source                          3\n",
      "dtype: int64\n",
      "\n",
      "Missing Values in Population Data 2017:\n",
      " GEOID                                        0\n",
      "GEOID2                                       0\n",
      "Geography Name                               0\n",
      "April 1, 2010 - Census                       0\n",
      "April 1, 2010 - Estimates Base               0\n",
      "Population Estimate (as of July 1) - 2010    0\n",
      "Population Estimate (as of July 1) - 2011    0\n",
      "Population Estimate (as of July 1) - 2012    0\n",
      "Population Estimate (as of July 1) - 2013    0\n",
      "Population Estimate (as of July 1) - 2014    0\n",
      "Population Estimate (as of July 1) - 2015    0\n",
      "Population Estimate (as of July 1) - 2016    0\n",
      "Population Estimate (as of July 1) - 2017    0\n",
      "dtype: int64\n",
      "\n",
      "Missing Values in Population Data 2016:\n",
      " Geographic ID                                0\n",
      "GEOID 2                                      0\n",
      "Geography, full name (City, State)           0\n",
      "April 1, 2010 - Census                       0\n",
      "April 1, 2010 - Estimates Base               0\n",
      "Population Estimate (as of July 1) - 2010    0\n",
      "Population Estimate (as of July 1) - 2011    0\n",
      "Population Estimate (as of July 1) - 2012    0\n",
      "Population Estimate (as of July 1) - 2013    0\n",
      "Population Estimate (as of July 1) - 2014    0\n",
      "Population Estimate (as of July 1) - 2015    0\n",
      "Population Estimate (as of July 1) - 2016    0\n",
      "dtype: int64\n"
     ]
    }
   ],
   "source": [
    "# Check for Missing Values in Each Dataset\n",
    "print(\"\\nMissing Values in Roster Data:\\n\", roster_data.isnull().sum())\n",
    "print(\"\\nMissing Values in Population Data 2017:\\n\", population_2017.isnull().sum())\n",
    "print(\"\\nMissing Values in Population Data 2016:\\n\", population_2016.isnull().sum())\n"
   ]
  },
  {
   "cell_type": "code",
   "execution_count": 5,
   "metadata": {},
   "outputs": [],
   "source": [
    "# Drop duplicates and NaNs\n",
    "roster_data.dropna(inplace=True)\n",
    "population_2017.dropna(inplace=True)\n",
    "population_2016.dropna(inplace=True)"
   ]
  },
  {
   "cell_type": "markdown",
   "metadata": {},
   "source": [
    "### Cleaning the Roster dataset"
   ]
  },
  {
   "cell_type": "code",
   "execution_count": 6,
   "metadata": {},
   "outputs": [],
   "source": [
    "# Rename Relevant Columns\n",
    "roster_data = roster_data.rename(columns={\n",
    "    'Player Name': 'player_name',\n",
    "    'Player Team': 'team',\n",
    "    'Player Position': 'position',\n",
    "    'Player Birth State': 'birth_state',\n",
    "    '2016 Population Estimates (except where otherwise noted)': 'population_2016'\n",
    "})\n",
    "\n",
    "# Drop Irrelevant Columns\n",
    "columns_to_drop = [\n",
    "    'Player Jersey Number', 'Player Age', 'Player Weight (lbs.)', 'Years Played', \n",
    "    'Player Birthplace (city, town, etc.)', 'Player Birthplace (Combo)', 'Player College', \n",
    "    'Conference', 'Latitude (player birthplace)', 'Longitude (player birthplace)', \n",
    "    'Number from City', 'Number of Records', \n",
    "    'American FactFinder Link for more Census data points', 'Quickfacts Link', \n",
    "    'State Data Link', 'Source (Population States 2017)', 'Birthplace, Population Data Source'\n",
    "]\n",
    "roster_data = roster_data.drop(columns=columns_to_drop)"
   ]
  },
  {
   "cell_type": "markdown",
   "metadata": {},
   "source": [
    "### Cleaning the 2017 Population Dataset"
   ]
  },
  {
   "cell_type": "code",
   "execution_count": 7,
   "metadata": {},
   "outputs": [],
   "source": [
    "# Rename Columns\n",
    "population_2017 = population_2017.rename(columns={\n",
    "    'Geography Name': 'state_name',\n",
    "    'Population Estimate (as of July 1) - 2010': 'population_2010',\n",
    "    'Population Estimate (as of July 1) - 2011': 'population_2011',\n",
    "    'Population Estimate (as of July 1) - 2012': 'population_2012',\n",
    "    'Population Estimate (as of July 1) - 2013': 'population_2013',\n",
    "    'Population Estimate (as of July 1) - 2014': 'population_2014',\n",
    "    'Population Estimate (as of July 1) - 2015': 'population_2015',\n",
    "    'Population Estimate (as of July 1) - 2016': 'population_2016',\n",
    "    'Population Estimate (as of July 1) - 2017': 'population_2017'\n",
    "})\n",
    "\n",
    "# Drop Irrelevant Columns\n",
    "columns_to_drop = ['GEOID', 'GEOID2', 'April 1, 2010 - Census', 'April 1, 2010 - Estimates Base']\n",
    "population_2017 = population_2017.drop(columns=columns_to_drop)\n"
   ]
  },
  {
   "cell_type": "markdown",
   "metadata": {},
   "source": [
    "###  Cleaning the 2016 Population Dataset"
   ]
  },
  {
   "cell_type": "code",
   "execution_count": 8,
   "metadata": {},
   "outputs": [],
   "source": [
    "# Rename Columns\n",
    "population_2016 = population_2016.rename(columns={\n",
    "    'Geography, full name (City, State)': 'city_state_name',\n",
    "    'Population Estimate (as of July 1) - 2010': 'population_2010',\n",
    "    'Population Estimate (as of July 1) - 2011': 'population_2011',\n",
    "    'Population Estimate (as of July 1) - 2012': 'population_2012',\n",
    "    'Population Estimate (as of July 1) - 2013': 'population_2013',\n",
    "    'Population Estimate (as of July 1) - 2014': 'population_2014',\n",
    "    'Population Estimate (as of July 1) - 2015': 'population_2015',\n",
    "    'Population Estimate (as of July 1) - 2016': 'population_2016'\n",
    "})\n",
    "\n",
    "# Drop Irrelevant Columns\n",
    "columns_to_drop = ['Geographic ID', 'GEOID 2', 'April 1, 2010 - Census', 'April 1, 2010 - Estimates Base']\n",
    "population_2016 = population_2016.drop(columns=columns_to_drop)"
   ]
  },
  {
   "cell_type": "code",
   "execution_count": 9,
   "metadata": {},
   "outputs": [
    {
     "name": "stdout",
     "output_type": "stream",
     "text": [
      "Roster Data Columns: Index(['player_name', 'position', 'birth_state', 'team', 'population_2016',\n",
      "       'State GEO ID', 'Full GEOID'],\n",
      "      dtype='object')\n",
      "2017 Population Data Columns: Index(['state_name', 'population_2010', 'population_2011', 'population_2012',\n",
      "       'population_2013', 'population_2014', 'population_2015',\n",
      "       'population_2016', 'population_2017'],\n",
      "      dtype='object')\n",
      "2016 Population Data Columns: Index(['city_state_name', 'population_2010', 'population_2011',\n",
      "       'population_2012', 'population_2013', 'population_2014',\n",
      "       'population_2015', 'population_2016'],\n",
      "      dtype='object')\n"
     ]
    }
   ],
   "source": [
    "print(\"Roster Data Columns:\", roster_data.columns)\n",
    "print(\"2017 Population Data Columns:\", population_2017.columns)\n",
    "print(\"2016 Population Data Columns:\", population_2016.columns)\n"
   ]
  },
  {
   "cell_type": "code",
   "execution_count": 10,
   "metadata": {},
   "outputs": [],
   "source": [
    "# Extract state name from city_state_name\n",
    "population_2016['state_name'] = population_2016['city_state_name'].str.split(',').str[-1].str.strip()\n"
   ]
  },
  {
   "cell_type": "code",
   "execution_count": 11,
   "metadata": {},
   "outputs": [
    {
     "name": "stdout",
     "output_type": "stream",
     "text": [
      "Updated 2016 Population Data Columns: Index(['city_state_name', 'population_2010', 'population_2011',\n",
      "       'population_2012', 'population_2013', 'population_2014',\n",
      "       'population_2015', 'population_2016', 'state_name'],\n",
      "      dtype='object')\n"
     ]
    }
   ],
   "source": [
    "# Check the updated columns\n",
    "print(\"Updated 2016 Population Data Columns:\", population_2016.columns)\n"
   ]
  },
  {
   "cell_type": "markdown",
   "metadata": {},
   "source": [
    "### Merging the Data for Trend Analysis"
   ]
  },
  {
   "cell_type": "code",
   "execution_count": 12,
   "metadata": {},
   "outputs": [
    {
     "name": "stdout",
     "output_type": "stream",
     "text": [
      "Merged State-Level Data:\n",
      " Index(['player_name', 'position', 'birth_state', 'team', 'population_2016_x',\n",
      "       'State GEO ID', 'Full GEOID', 'state_name', 'population_2010',\n",
      "       'population_2011', 'population_2012', 'population_2013',\n",
      "       'population_2014', 'population_2015', 'population_2016_y',\n",
      "       'population_2017'],\n",
      "      dtype='object')\n"
     ]
    }
   ],
   "source": [
    "# Merge Roster Data with 2017 State-Level Population Data\n",
    "merged_state_data = pd.merge(\n",
    "    roster_data, \n",
    "    population_2017, \n",
    "    left_on='birth_state', \n",
    "    right_on='state_name', \n",
    "    how='inner'\n",
    ")\n",
    "\n",
    "# Check the merged data\n",
    "print(\"Merged State-Level Data:\\n\", merged_state_data.columns)"
   ]
  },
  {
   "cell_type": "code",
   "execution_count": 13,
   "metadata": {},
   "outputs": [
    {
     "name": "stdout",
     "output_type": "stream",
     "text": [
      "Final Merged Data:\n",
      " Index(['player_name', 'position', 'birth_state', 'team', 'population_2016_x',\n",
      "       'State GEO ID', 'Full GEOID', 'state_name', 'population_2010_x',\n",
      "       'population_2011_x', 'population_2012_x', 'population_2013_x',\n",
      "       'population_2014_x', 'population_2015_x', 'population_2016_y',\n",
      "       'population_2017', 'city_state_name', 'population_2010_y',\n",
      "       'population_2011_y', 'population_2012_y', 'population_2013_y',\n",
      "       'population_2014_y', 'population_2015_y', 'population_2016'],\n",
      "      dtype='object')\n"
     ]
    }
   ],
   "source": [
    "merged_data = pd.merge(\n",
    "    merged_state_data, \n",
    "    population_2016, \n",
    "    on='state_name', \n",
    "    how='left'\n",
    ")\n",
    "\n",
    "# Save the Final Dataset\n",
    "merged_data.to_csv('final_big_game_data.csv', index=False)\n",
    "\n",
    "# Display the first few rows of the merged dataset\n",
    "print(\"Final Merged Data:\\n\", merged_data.columns)\n"
   ]
  },
  {
   "cell_type": "code",
   "execution_count": 15,
   "metadata": {},
   "outputs": [
    {
     "name": "stdout",
     "output_type": "stream",
     "text": [
      "Cleaned Dataset Columns:\n",
      " Index(['player_name', 'position', 'birth_state', 'team', 'population_2016',\n",
      "       'state_name', 'population_2010_x', 'population_2011_x',\n",
      "       'population_2012_x', 'population_2013_x', 'population_2014_x',\n",
      "       'population_2015_x', 'population_2017', 'population_2016'],\n",
      "      dtype='object')\n",
      "      player_name position birth_state         team  population_2016  \\\n",
      "0  Devin McCourty     S/FS    New York  New England            18377   \n",
      "1  Devin McCourty     S/FS    New York  New England            18377   \n",
      "2  Devin McCourty     S/FS    New York  New England            18377   \n",
      "3  Devin McCourty     S/FS    New York  New England            18377   \n",
      "4  Devin McCourty     S/FS    New York  New England            18377   \n",
      "\n",
      "  state_name  population_2010_x  population_2011_x  population_2012_x  \\\n",
      "0   New York           19405185           19526372           19625409   \n",
      "1   New York           19405185           19526372           19625409   \n",
      "2   New York           19405185           19526372           19625409   \n",
      "3   New York           19405185           19526372           19625409   \n",
      "4   New York           19405185           19526372           19625409   \n",
      "\n",
      "   population_2013_x  population_2014_x  population_2015_x  population_2017  \\\n",
      "0           19712514           19773580           19819347         19849399   \n",
      "1           19712514           19773580           19819347         19849399   \n",
      "2           19712514           19773580           19819347         19849399   \n",
      "3           19712514           19773580           19819347         19849399   \n",
      "4           19712514           19773580           19819347         19849399   \n",
      "\n",
      "   population_2016  \n",
      "0             1769  \n",
      "1             1702  \n",
      "2              809  \n",
      "3             8856  \n",
      "4             2854  \n"
     ]
    }
   ],
   "source": [
    "# Drop redundant population columns with '_y' suffix (if you prefer to keep the '_x' version, for example)\n",
    "# You can change this if you want to keep the '_y' version instead\n",
    "columns_to_drop = [\n",
    "    'population_2010_y', 'population_2011_y', 'population_2012_y', 'population_2013_y', 'population_2014_y', 'population_2015_y',\n",
    "    'population_2016_y', 'city_state_name', 'State GEO ID', 'Full GEOID'\n",
    "]\n",
    "\n",
    "# Drop '_y' columns (keeping '_x' columns)\n",
    "merged_data_cleaned = merged_data.drop(columns=columns_to_drop, errors='ignore')\n",
    "\n",
    "# Rename the columns to keep consistency in naming, we will keep 'population_2016' and 'population_2017'\n",
    "# The 'population_2016' column from the merged dataset will be retained\n",
    "merged_data_cleaned = merged_data_cleaned.rename(columns={\n",
    "    'population_2016_x': 'population_2016',  # Rename to make sure 'population_2016' remains\n",
    "})\n",
    "\n",
    "# Check the cleaned data to ensure the correct columns are kept\n",
    "print(\"Cleaned Dataset Columns:\\n\", merged_data_cleaned.columns)  # Check for duplicates\n",
    "print(merged_data_cleaned.head())  # Inspect the first few rows of the cleaned dataset\n",
    "\n",
    "# Save the cleaned dataset\n",
    "merged_data_cleaned.to_csv('final_cleaned_big_game_data.csv', index=False)\n"
   ]
  },
  {
   "cell_type": "code",
   "execution_count": null,
   "metadata": {},
   "outputs": [],
   "source": []
  }
 ],
 "metadata": {
  "kernelspec": {
   "display_name": "venv",
   "language": "python",
   "name": "python3"
  },
  "language_info": {
   "codemirror_mode": {
    "name": "ipython",
    "version": 3
   },
   "file_extension": ".py",
   "mimetype": "text/x-python",
   "name": "python",
   "nbconvert_exporter": "python",
   "pygments_lexer": "ipython3",
   "version": "3.10.0"
  }
 },
 "nbformat": 4,
 "nbformat_minor": 2
}
